{
 "cells": [
  {
   "cell_type": "code",
   "execution_count": 1,
   "metadata": {},
   "outputs": [
    {
     "name": "stdout",
     "output_type": "stream",
     "text": [
      "Input the radius of the circle : 4\n",
      "The area of the circle with radius 4.0 is 50.272\n"
     ]
    }
   ],
   "source": [
    "#1 Write a Python program which accepts the radius of a circle from the user and compute the area.\n",
    "r = float(input (\"Input the radius of the circle : \"))\n",
    "print (\"The area of the circle with radius \" + str(r) + \" is \" + str(3.142 * r**2))"
   ]
  },
  {
   "cell_type": "code",
   "execution_count": 2,
   "metadata": {},
   "outputs": [
    {
     "name": "stdout",
     "output_type": "stream",
     "text": [
      "enter a number : -5\n",
      "number is negative\n"
     ]
    }
   ],
   "source": [
    "#2 Python program to check if a number is positive, negative or zero :\n",
    "x=int(input(\"enter a number : \"))\n",
    "if x > 0 :\n",
    "    print(\"number is positve\")\n",
    "elif x < 0 :\n",
    "    print(\"number is negative\")\n",
    "elif x ==0 :   \n",
    "    print(\"number is zero\")"
   ]
  },
  {
   "cell_type": "code",
   "execution_count": 3,
   "metadata": {},
   "outputs": [
    {
     "name": "stdout",
     "output_type": "stream",
     "text": [
      "enter numerator : 50\n",
      "enter demominator : 10\n",
      "quotient = 5.0\n",
      "remainder = 0\n",
      "50 is completely divisible by 10\n"
     ]
    }
   ],
   "source": [
    "#3 Write a Python program to check whether a number is completely divisible by another number. Accept two integervalues form the user\n",
    "x=int(input(\"enter numerator : \"))\n",
    "y=int(input(\"enter demominator : \"))\n",
    "\n",
    "z=x/y\n",
    "a=x%y\n",
    "print(\"quotient = \" + str(z))\n",
    "print(\"remainder = \" + str(a))\n",
    "if x%y ==0:\n",
    "    print(str(x) + \" is completely divisible by \" + str(y))\n",
    "else:\n",
    "    print(str(x) + \" is not completely divisible by \" + str(y))"
   ]
  },
  {
   "cell_type": "code",
   "execution_count": 4,
   "metadata": {},
   "outputs": [
    {
     "ename": "NameError",
     "evalue": "name 'date' is not defined",
     "output_type": "error",
     "traceback": [
      "\u001b[1;31m---------------------------------------------------------------------------\u001b[0m",
      "\u001b[1;31mNameError\u001b[0m                                 Traceback (most recent call last)",
      "\u001b[1;32m<ipython-input-4-f9c78427d136>\u001b[0m in \u001b[0;36m<module>\u001b[1;34m\u001b[0m\n\u001b[0;32m      1\u001b[0m \u001b[1;31m#4 Write a Python program to calculate number of days between two date\u001b[0m\u001b[1;33m\u001b[0m\u001b[1;33m\u001b[0m\u001b[1;33m\u001b[0m\u001b[0m\n\u001b[1;32m----> 2\u001b[1;33m \u001b[0mf_date\u001b[0m \u001b[1;33m=\u001b[0m \u001b[0mdate\u001b[0m\u001b[1;33m(\u001b[0m\u001b[1;36m2018\u001b[0m\u001b[1;33m,\u001b[0m \u001b[1;36m12\u001b[0m\u001b[1;33m,\u001b[0m \u001b[1;36m12\u001b[0m\u001b[1;33m)\u001b[0m\u001b[1;33m\u001b[0m\u001b[1;33m\u001b[0m\u001b[0m\n\u001b[0m\u001b[0;32m      3\u001b[0m \u001b[0ml_date\u001b[0m \u001b[1;33m=\u001b[0m \u001b[0mdate\u001b[0m\u001b[1;33m(\u001b[0m\u001b[1;36m2018\u001b[0m\u001b[1;33m,\u001b[0m \u001b[1;36m12\u001b[0m\u001b[1;33m,\u001b[0m \u001b[1;36m16\u001b[0m\u001b[1;33m)\u001b[0m\u001b[1;33m\u001b[0m\u001b[1;33m\u001b[0m\u001b[0m\n\u001b[0;32m      4\u001b[0m \u001b[0mdelta\u001b[0m \u001b[1;33m=\u001b[0m \u001b[0ml_date\u001b[0m \u001b[1;33m-\u001b[0m \u001b[0mf_date\u001b[0m\u001b[1;33m\u001b[0m\u001b[1;33m\u001b[0m\u001b[0m\n\u001b[0;32m      5\u001b[0m \u001b[0mprint\u001b[0m\u001b[1;33m(\u001b[0m\u001b[0mdelta\u001b[0m\u001b[1;33m.\u001b[0m\u001b[0mdays\u001b[0m\u001b[1;33m)\u001b[0m\u001b[1;33m\u001b[0m\u001b[1;33m\u001b[0m\u001b[0m\n",
      "\u001b[1;31mNameError\u001b[0m: name 'date' is not defined"
     ]
    }
   ],
   "source": [
    "#4 Write a Python program to calculate number of days between two date\n",
    "f_date = date(2018, 12, 12)\n",
    "l_date = date(2018, 12, 16)\n",
    "delta = l_date - f_date\n",
    "print(delta.days)"
   ]
  },
  {
   "cell_type": "code",
   "execution_count": 5,
   "metadata": {},
   "outputs": [
    {
     "name": "stdout",
     "output_type": "stream",
     "text": [
      "enter the radius of sphere in cms : 4\n",
      "volume of sphere is 268.1173333333333 cms^3\n"
     ]
    }
   ],
   "source": [
    "#5 Write a Python program to get the volume of a sphere, please take the radius as input from user\n",
    "r=float(input(\"enter the radius of sphere in cms : \"))\n",
    "v=(4/3)*(3.142)*r**3\n",
    "print(\"volume of sphere is \" + str(v) + \" cms^3\")"
   ]
  },
  {
   "cell_type": "code",
   "execution_count": 6,
   "metadata": {},
   "outputs": [
    {
     "name": "stdout",
     "output_type": "stream",
     "text": [
      "HiHiHiHi\n"
     ]
    }
   ],
   "source": [
    "#6 Write a Python program to get a string which is n (non-negative integer) copies of a given string\n",
    "def larger_string(str, n):\n",
    "   result = \"\"\n",
    "   for i in range(n):\n",
    "      result = result + str\n",
    "   return result\n",
    "\n",
    "print(larger_string('Hi', 4))"
   ]
  },
  {
   "cell_type": "code",
   "execution_count": 7,
   "metadata": {},
   "outputs": [
    {
     "name": "stdout",
     "output_type": "stream",
     "text": [
      "Enter a number: 8\n",
      "This is an even number.\n"
     ]
    }
   ],
   "source": [
    "#7 Write a Python program to find whether a given number (accept from the user) is even or odd, print out an appropriate message to the user\n",
    "num = float(input(\"Enter a number: \"))\n",
    "mod = num % 2\n",
    "if mod > 0:\n",
    "    print(\"This is an odd number.\")\n",
    "else:\n",
    "    print(\"This is an even number.\")"
   ]
  },
  {
   "cell_type": "code",
   "execution_count": 9,
   "metadata": {},
   "outputs": [
    {
     "name": "stdout",
     "output_type": "stream",
     "text": [
      "enter an alphabet : n\n",
      "alphabet you entered is a consonant\n"
     ]
    }
   ],
   "source": [
    "#8 Write a Python program to test whether a passed letter is a vowel or not\n",
    "x=input(\"enter an alphabet : \").lower()\n",
    "if  (x==\"a\" or x==\"e\" or x==\"i\" or x==\"o\" or x==\"u\") :\n",
    "    print(\"alphabet you entered is a vowel\")\n",
    "else :\n",
    "    print(\"alphabet you entered is a consonant\")"
   ]
  },
  {
   "cell_type": "code",
   "execution_count": 10,
   "metadata": {},
   "outputs": [
    {
     "name": "stdout",
     "output_type": "stream",
     "text": [
      "Input the base : 2\n",
      "Input the height : 4\n",
      "area =  4.0\n"
     ]
    }
   ],
   "source": [
    "#9 Write a Python program that will accept the base and height of a triangle and compute the area\n",
    "b = float(input(\"Input the base : \"))\n",
    "h = float(input(\"Input the height : \"))\n",
    "\n",
    "area = b*h/2\n",
    "\n",
    "print(\"area = \", area)"
   ]
  },
  {
   "cell_type": "code",
   "execution_count": 11,
   "metadata": {},
   "outputs": [
    {
     "name": "stdout",
     "output_type": "stream",
     "text": [
      "Please enter principal amount: 10000\n",
      "Please Enter Rate of interest in %: 0.1\n",
      "Enter number of years for investment: 5\n",
      "After 5 years your principal amount 10000 over an interest rate of 0.1 % will be 16105.1\n"
     ]
    }
   ],
   "source": [
    "#10 Write a Python program to compute the future value of a specified principal amount, rate of interest, and a number of years\n",
    "a = int(input(\"Please enter principal amount: \"))\n",
    "b = float(input(\"Please Enter Rate of interest in %: \"))\n",
    "c = int(input(\"Enter number of years for investment: \"))\n",
    "d = 0\n",
    "e = a * b * 10\n",
    "while d < c:\n",
    "    e += e * b\n",
    "    d += 1\n",
    "    \n",
    "print(\"After\",c,\"years your principal amount\",a,\"over an interest rate of\",b,\"% will be\",e)"
   ]
  },
  {
   "cell_type": "code",
   "execution_count": 12,
   "metadata": {},
   "outputs": [
    {
     "name": "stdout",
     "output_type": "stream",
     "text": [
      "enter x1 : 2\n",
      "enter x2 : 4\n",
      "enter y1 : 4\n",
      "enter y2 : 4\n",
      "the distance between points (2, 4) and (4, 4) is 2.0 units\n"
     ]
    }
   ],
   "source": [
    "#11 Write a Python program to compute the distance between the points (x1, y1) and (x2, y2).\n",
    "x1=int(input(\"enter x1 : \"))\n",
    "x2=int(input(\"enter x2 : \"))\n",
    "y1=int(input(\"enter y1 : \"))\n",
    "y2=int(input(\"enter y2 : \"))\n",
    "d=((x2-x1)**2 + (y2-y1)**2)**(1/2)\n",
    "print(\"the distance between points \" + str((x1,y1)) + \" and \" + str((x2,y2)) + \" is \" + str(d) + \" units\")"
   ]
  },
  {
   "cell_type": "code",
   "execution_count": 13,
   "metadata": {},
   "outputs": [
    {
     "name": "stdout",
     "output_type": "stream",
     "text": [
      "enter height in feet : 4\n",
      "height in cms is 121.92\n"
     ]
    }
   ],
   "source": [
    "#12 Write a Python program to convert height in feet to centimetres\n",
    "l=float(input(\"enter height in feet : \"))\n",
    "x=l*30.48\n",
    "print(\"height in cms is \" + str(x))"
   ]
  },
  {
   "cell_type": "code",
   "execution_count": 14,
   "metadata": {},
   "outputs": [
    {
     "name": "stdout",
     "output_type": "stream",
     "text": [
      "Enter Height in Cm: 3\n",
      "Enter Weight in Kg: 23\n",
      "Your BMI is 25555.555555555555\n"
     ]
    }
   ],
   "source": [
    "#13 Write a Python program to calculate body mass index\n",
    "a = float(input(\"Enter Height in Cm: \"))\n",
    "b = float(input(\"Enter Weight in Kg: \"))\n",
    "c = a * 0.01\n",
    "d = b / (c * c)\n",
    "print(\"Your BMI is\",d)"
   ]
  },
  {
   "cell_type": "code",
   "execution_count": 15,
   "metadata": {},
   "outputs": [
    {
     "name": "stdout",
     "output_type": "stream",
     "text": [
      "enter any number : 3\n",
      "sum of first 3 integers is 6.0\n"
     ]
    }
   ],
   "source": [
    "#14 Python program to sum of the first n positive integers \n",
    "n=int(input(\"enter any number : \"))\n",
    "s=(n*(n+1))/2\n",
    "print(\"sum of first \" + str(n) + \" integers is \" + str(s))"
   ]
  },
  {
   "cell_type": "code",
   "execution_count": 16,
   "metadata": {},
   "outputs": [
    {
     "name": "stdout",
     "output_type": "stream",
     "text": [
      "Input a four digit numbers: 1234\n",
      "The sum of digits in the number is 10\n"
     ]
    }
   ],
   "source": [
    "#15 Write a Python program to calculate the sum of the digits in an integer\n",
    "num = int(input(\"Input a four digit numbers: \"))\n",
    "x  = num //1000\n",
    "x1 = (num - x*1000)//100\n",
    "x2 = (num - x*1000 - x1*100)//10\n",
    "x3 = num - x*1000 - x1*100 - x2*10\n",
    "print(\"The sum of digits in the number is\", x+x1+x2+x3)"
   ]
  },
  {
   "cell_type": "code",
   "execution_count": 17,
   "metadata": {},
   "outputs": [
    {
     "name": "stdout",
     "output_type": "stream",
     "text": [
      "Enter any decimal number: 10\n",
      "1010"
     ]
    }
   ],
   "source": [
    "#16 Write a Python program to convert an decimal integer to binary\n",
    "def decimalToBinary(num):\n",
    "    if num > 1:\n",
    "        decimalToBinary(num // 2)\n",
    "    print(num % 2, end='')\n",
    "number = int(input(\"Enter any decimal number: \"))\n",
    "decimalToBinary(number)"
   ]
  },
  {
   "cell_type": "code",
   "execution_count": 18,
   "metadata": {},
   "outputs": [
    {
     "name": "stdout",
     "output_type": "stream",
     "text": [
      "Input a binary number: 1101\n",
      "The decimal value of the number is 13\n"
     ]
    }
   ],
   "source": [
    "#17 Write a program to convert binary number to Decimal number\n",
    "b_num = list(input(\"Input a binary number: \"))\n",
    "value = 0\n",
    "\n",
    "for i in range(len(b_num)):\n",
    "    digit = b_num.pop()\n",
    "    if digit == '1':\n",
    "        value = value + pow(2, i)\n",
    "print(\"The decimal value of the number is\", value)"
   ]
  },
  {
   "cell_type": "code",
   "execution_count": 19,
   "metadata": {},
   "outputs": [
    {
     "name": "stdout",
     "output_type": "stream",
     "text": [
      "Enter text: QuickBrownFoxJumpsovertheDog\n",
      "\n",
      "Vowels: 9\n",
      "Consonants: 19\n"
     ]
    }
   ],
   "source": [
    "#18 Counter of Vowel and Consonents\n",
    "#Answer:\n",
    "str1 = input(\"Enter text: \")\n",
    "vowels = 0\n",
    "consonants = 0\n",
    "\n",
    "for i in str1:\n",
    "    if(i == 'a' or i == 'e' or i == 'i' or i == 'o' or i == 'u'\n",
    "       or i == 'A' or i == 'E' or i == 'I' or i == 'O' or i == 'U'):\n",
    "        vowels = vowels + 1\n",
    "    else:\n",
    "        consonants = consonants + 1\n",
    "\n",
    "print()\n",
    "print(\"Vowels:\",vowels)\n",
    "print(\"Consonants:\",consonants)"
   ]
  },
  {
   "cell_type": "code",
   "execution_count": 20,
   "metadata": {},
   "outputs": [
    {
     "name": "stdout",
     "output_type": "stream",
     "text": [
      "Enter text: aha\n",
      "It is palindrome\n"
     ]
    }
   ],
   "source": [
    "#19 Palindrome tester\n",
    "my_str = input(\"Enter text: \")\n",
    "my_str = my_str.casefold()\n",
    "rev_str = reversed(my_str)\n",
    "\n",
    "if list(my_str) == list(rev_str):\n",
    "   print(\"It is palindrome\")\n",
    "else:\n",
    "   print(\"It is not palindrome\")"
   ]
  },
  {
   "cell_type": "code",
   "execution_count": 21,
   "metadata": {},
   "outputs": [
    {
     "name": "stdout",
     "output_type": "stream",
     "text": [
      "Enter text: python 3.2\n",
      "Numbers = 2\n",
      "Alphabets = 6\n",
      "Special Characters = 1\n",
      "Spaces = 1\n"
     ]
    }
   ],
   "source": [
    "#20 Counter of Alphabetic Numbers and Special Characters\n",
    "txt = input(\"Enter text: \")\n",
    "a = 0\n",
    "b = 0\n",
    "c = 0\n",
    "d = 0\n",
    "for x in txt:\n",
    "    if int(ord(x)) >= 65 and int(ord(x)) <= 122:\n",
    "        a += 1\n",
    "    elif int(ord(x)) >= 48 and int(ord(x)) <= 57:\n",
    "        b += 1\n",
    "    elif x == \" \":\n",
    "        d += 1\n",
    "    else:\n",
    "        c += 1\n",
    "print(\"Numbers =\",b)\n",
    "print(\"Alphabets =\",a)\n",
    "print(\"Special Characters =\",c)\n",
    "print(\"Spaces =\",d)"
   ]
  },
  {
   "cell_type": "code",
   "execution_count": 22,
   "metadata": {},
   "outputs": [
    {
     "name": "stdout",
     "output_type": "stream",
     "text": [
      "\n",
      "* \n",
      "* * \n",
      "* * * \n",
      "* * * * \n",
      "* * * * * \n",
      "* * * * \n",
      "* * * \n",
      "* * \n",
      "* \n"
     ]
    }
   ],
   "source": [
    "#21 Write a Python program to construct the following pattern\n",
    "n=5;\n",
    "for i in range(n):\n",
    "    for j in range(i):\n",
    "        print ('* ', end=\"\")\n",
    "    print('')\n",
    "\n",
    "for i in range(n,0,-1):\n",
    "    for j in range(i):\n",
    "        print('* ', end=\"\")\n",
    "    print('')"
   ]
  },
  {
   "cell_type": "code",
   "execution_count": 23,
   "metadata": {},
   "outputs": [
    {
     "name": "stdout",
     "output_type": "stream",
     "text": [
      "1\n",
      "12\n",
      "123\n",
      "1234\n",
      "12345\n",
      "1234\n",
      "123\n",
      "12\n",
      "1\n",
      "\n"
     ]
    }
   ],
   "source": [
    "#22 Python program to construct following pattern\n",
    "my_string = \"12345\"\n",
    "x = 0\n",
    "\n",
    "for i in my_string:\n",
    "    x = x + 1\n",
    "    print(my_string[0:x])\n",
    "\n",
    "for i in my_string:\n",
    "    x = x - 1\n",
    "    print(my_string[0:x])"
   ]
  },
  {
   "cell_type": "code",
   "execution_count": 24,
   "metadata": {},
   "outputs": [
    {
     "name": "stdout",
     "output_type": "stream",
     "text": [
      "\n",
      "1\n",
      "22\n",
      "333\n",
      "4444\n",
      "55555\n",
      "666666\n",
      "7777777\n",
      "88888888\n",
      "999999999\n"
     ]
    }
   ],
   "source": [
    "#23 Write a Python program to construct the following pattern\n",
    "for i in range(10):\n",
    "    print(str(i) * i)"
   ]
  },
  {
   "cell_type": "code",
   "execution_count": null,
   "metadata": {},
   "outputs": [],
   "source": []
  }
 ],
 "metadata": {
  "kernelspec": {
   "display_name": "Python 3",
   "language": "python",
   "name": "python3"
  },
  "language_info": {
   "codemirror_mode": {
    "name": "ipython",
    "version": 3
   },
   "file_extension": ".py",
   "mimetype": "text/x-python",
   "name": "python",
   "nbconvert_exporter": "python",
   "pygments_lexer": "ipython3",
   "version": "3.7.3"
  }
 },
 "nbformat": 4,
 "nbformat_minor": 2
}
